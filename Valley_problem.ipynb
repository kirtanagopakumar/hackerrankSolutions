{
  "nbformat": 4,
  "nbformat_minor": 0,
  "metadata": {
    "colab": {
      "name": "Valley_problem.ipynb",
      "provenance": [],
      "collapsed_sections": []
    },
    "kernelspec": {
      "name": "python3",
      "display_name": "Python 3"
    },
    "language_info": {
      "name": "python"
    }
  },
  "cells": [
    {
      "cell_type": "markdown",
      "source": [
        "Question"
      ],
      "metadata": {
        "id": "rj_gPpxWDG3v"
      }
    },
    {
      "cell_type": "markdown",
      "source": [
        "- An avid hiker keeps meticulous records of their hikes. During the last hike that took exactly  steps, for every step it was noted if it was an uphill, , or a downhill,  step. Hikes always start and end at sea level, and each step up or down represents a  unit change in altitude. We define the following terms:\n",
        "A mountain is a sequence of consecutive steps above sea level, starting with a step up from sea level and ending with a step down to sea level.\n",
        "A valley is a sequence of consecutive steps below sea level, starting with a step down from sea level and ending with a step up to sea level.\n",
        "Given the sequence of up and down steps during a hike, find and print the number of valleys walked through.\n",
        "Example\n",
        " \n",
        "- The hiker first enters a valley  units deep. Then they climb out and up onto a mountain  units high. Finally, the hiker returns to sea level and ends the hike.\n",
        "Function Description\n",
        "Complete the countingValleys function in the editor below.\n",
        "countingValleys has the following parameter(s):\n",
        "int steps: the number of steps on the hike\n",
        "string path: a string describing the path\n",
        "Returns\n",
        "int: the number of valleys traversed\n",
        "Input Format\n",
        "The first line contains an integer , the number of steps in the hike. \n",
        "The second line contains a single string , of  characters that describe the path.\n",
        "Constraints\n",
        "\n",
        "\n",
        "- Sample Input\n",
        "8\n",
        "UDDDUDUU\n",
        "Sample Output\n",
        "1\n",
        "- Explanation\n",
        "If we represent _ as sea level, a step up as /, and a step down as \\, the hike can be drawn as:\n",
        "_/\\      _\n",
        "   \\    /\n",
        "    \\/\\/\n",
        "The hiker enters and leaves one valley."
      ],
      "metadata": {
        "id": "0O1uVCvdDyAV"
      }
    },
    {
      "cell_type": "markdown",
      "source": [
        "Solution"
      ],
      "metadata": {
        "id": "jMqKPhKTDXIm"
      }
    },
    {
      "cell_type": "code",
      "source": [
        "# Defining the function\n",
        "def countingValleys(steps, path):\n",
        "  countval = 0\n",
        "  dic = {'U':1, 'D':-1}\n",
        "  counts = [dic.get(item,item)  for item in path]\n",
        "  el_cumulative = [sum(counts[:(i+1)]) for i, j in enumerate(counts)]\n",
        "  for i in list(range(0,len(el_cumulative))):\n",
        "    if el_cumulative[i] == -1 and el_cumulative[i-1]== 0:\n",
        "      countval+=1\n",
        "  return countval"
      ],
      "metadata": {
        "id": "xvNBiX8dDLwt"
      },
      "execution_count": 4,
      "outputs": []
    },
    {
      "cell_type": "code",
      "source": [
        "# Running for some examples\n",
        "k = ['D','D','U','U','D','D','U','D','U','U','U','D']\n",
        "countingValleys(len(k), k)"
      ],
      "metadata": {
        "colab": {
          "base_uri": "https://localhost:8080/"
        },
        "id": "F1cdJH1pDP1T",
        "outputId": "0d8e0e6b-10de-4992-a3dc-e04373616c2a"
      },
      "execution_count": 6,
      "outputs": [
        {
          "output_type": "execute_result",
          "data": {
            "text/plain": [
              "2"
            ]
          },
          "metadata": {},
          "execution_count": 6
        }
      ]
    },
    {
      "cell_type": "code",
      "source": [
        "k = ['D','D','U','U','D','D','U','D','U','U','U','D', 'D','D','U','U','D','D','U','D','U','U','U','D', 'D','D','U','U','D','D','U','D','U','U','U','D', 'D','D','U','U','D','D','U','D','U','U','U','D']\n",
        "countingValleys(len(k), k)"
      ],
      "metadata": {
        "colab": {
          "base_uri": "https://localhost:8080/"
        },
        "id": "ar114pcvDlTE",
        "outputId": "1ce741f1-9149-4d33-f1c0-b7c3565f44c0"
      },
      "execution_count": 8,
      "outputs": [
        {
          "output_type": "execute_result",
          "data": {
            "text/plain": [
              "8"
            ]
          },
          "metadata": {},
          "execution_count": 8
        }
      ]
    },
    {
      "cell_type": "code",
      "source": [
        ""
      ],
      "metadata": {
        "id": "HEbEA1lwDsNR"
      },
      "execution_count": null,
      "outputs": []
    }
  ]
}