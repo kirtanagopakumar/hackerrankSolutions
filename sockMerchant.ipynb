{
  "nbformat": 4,
  "nbformat_minor": 0,
  "metadata": {
    "colab": {
      "name": "Untitled16.ipynb",
      "provenance": [],
      "collapsed_sections": [],
      "authorship_tag": "ABX9TyMIXs+zRUyRNt+j+QSKfwdU",
      "include_colab_link": true
    },
    "kernelspec": {
      "name": "python3",
      "display_name": "Python 3"
    },
    "language_info": {
      "name": "python"
    }
  },
  "cells": [
    {
      "cell_type": "markdown",
      "metadata": {
        "id": "view-in-github",
        "colab_type": "text"
      },
      "source": [
        "<a href=\"https://colab.research.google.com/github/kirtanagopakumar/hackerrankSolutions/blob/main/sockMerchant.ipynb\" target=\"_parent\"><img src=\"https://colab.research.google.com/assets/colab-badge.svg\" alt=\"Open In Colab\"/></a>"
      ]
    },
    {
      "cell_type": "markdown",
      "source": [
        "QUESTION"
      ],
      "metadata": {
        "id": "q_DfyP2HGcoD"
      }
    },
    {
      "cell_type": "markdown",
      "source": [
        "- There is a large pile of socks that must be paired by color. Given an array of integers representing the color of each sock, determine how many pairs of socks with matching colors there are.\n",
        "Example \n",
        " \n",
        "\n",
        "- There is one pair of color  and one of color . There are three odd socks left, one of each color. The number of pairs is .\n",
        "- Function Description\n",
        "Complete the sockMerchant function in the editor below.\n",
        "- sockMerchant has the following parameter(s):\n",
        "int n: the number of socks in the pile\n",
        "int ar[n]: the colors of each sock\n",
        "- Returns\n",
        "int: the number of pairs\n",
        "- Input Format\n",
        "The first line contains an integer , the number of socks represented in . \n",
        "The second line contains  space-separated integers, , the colors of the socks in the pile."
      ],
      "metadata": {
        "id": "YPFm8_DWGKyV"
      }
    },
    {
      "cell_type": "markdown",
      "source": [
        "SOLUTION"
      ],
      "metadata": {
        "id": "Bp4aFUC0Gf7c"
      }
    },
    {
      "cell_type": "code",
      "source": [
        "# FUNCTION\n",
        "def sockMerchant(n, ar):\n",
        "    listcount = []\n",
        "    arrunique = []\n",
        " #   ar1 = [x for x in ar]\n",
        "    for a in ar:\n",
        "        if a not in arrunique:\n",
        "            arrunique.append(a)\n",
        "    for kk in arrunique:\n",
        "        j = ar.count(kk)\n",
        "        if j % 2 == 0:\n",
        "            listcount.append(j/2)\n",
        "        elif j > 1 and j%2 != 0:\n",
        "            listcount.append((j/2)-.5)\n",
        "        else:\n",
        "            listcount.append(0)\n",
        "    return int(sum(listcount))"
      ],
      "metadata": {
        "id": "0Uoc6_oAGfSJ"
      },
      "execution_count": 2,
      "outputs": []
    },
    {
      "cell_type": "code",
      "source": [
        "sockMerchant(3, [1,1,1])"
      ],
      "metadata": {
        "colab": {
          "base_uri": "https://localhost:8080/"
        },
        "id": "EPN7BEZ3Gn9l",
        "outputId": "eb1278c5-4dcb-4925-d083-894860a03957"
      },
      "execution_count": 3,
      "outputs": [
        {
          "output_type": "execute_result",
          "data": {
            "text/plain": [
              "1"
            ]
          },
          "metadata": {},
          "execution_count": 3
        }
      ]
    },
    {
      "cell_type": "code",
      "source": [
        "sockMerchant(9, [10, 20, 20, 10, 10, 30, 50, 10, 20])"
      ],
      "metadata": {
        "colab": {
          "base_uri": "https://localhost:8080/"
        },
        "id": "NeUXop3iGr0b",
        "outputId": "a6835534-ce83-463d-89f8-322fb68505b2"
      },
      "execution_count": 5,
      "outputs": [
        {
          "output_type": "execute_result",
          "data": {
            "text/plain": [
              "3"
            ]
          },
          "metadata": {},
          "execution_count": 5
        }
      ]
    },
    {
      "cell_type": "code",
      "source": [
        "sockMerchant(10, [1, 1, 3, 1, 2, 1, 3, 3, 3, 3])"
      ],
      "metadata": {
        "colab": {
          "base_uri": "https://localhost:8080/"
        },
        "id": "mVWOe8r4G2L9",
        "outputId": "13929c64-c95b-4be0-9f6c-36bda6ed725a"
      },
      "execution_count": 8,
      "outputs": [
        {
          "output_type": "execute_result",
          "data": {
            "text/plain": [
              "4"
            ]
          },
          "metadata": {},
          "execution_count": 8
        }
      ]
    },
    {
      "cell_type": "code",
      "source": [
        ""
      ],
      "metadata": {
        "id": "pfCk6OUpG9DK"
      },
      "execution_count": null,
      "outputs": []
    }
  ]
}